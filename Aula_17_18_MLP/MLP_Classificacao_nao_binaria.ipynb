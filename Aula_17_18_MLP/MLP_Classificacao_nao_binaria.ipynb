{
 "cells": [
  {
   "cell_type": "markdown",
   "metadata": {},
   "source": [
    "## Multilayer Perceptron (MLP)\n",
    "\n",
    "- Camadas intermediárias\n",
    "- Arquitetura feedforward\n",
    "- aprendizagem por retropropagação (backpropagation)\n",
    "\n",
    "<img src=\"images/MLP.png\">"
   ]
  },
  {
   "cell_type": "code",
   "execution_count": 1,
   "metadata": {},
   "outputs": [],
   "source": [
    "import numpy as np\n",
    "import pandas as pd\n",
    "import matplotlib.pyplot as plt\n",
    "import math"
   ]
  },
  {
   "cell_type": "code",
   "execution_count": 2,
   "metadata": {},
   "outputs": [
    {
     "data": {
      "text/html": [
       "<div>\n",
       "<style scoped>\n",
       "    .dataframe tbody tr th:only-of-type {\n",
       "        vertical-align: middle;\n",
       "    }\n",
       "\n",
       "    .dataframe tbody tr th {\n",
       "        vertical-align: top;\n",
       "    }\n",
       "\n",
       "    .dataframe thead th {\n",
       "        text-align: right;\n",
       "    }\n",
       "</style>\n",
       "<table border=\"1\" class=\"dataframe\">\n",
       "  <thead>\n",
       "    <tr style=\"text-align: right;\">\n",
       "      <th></th>\n",
       "      <th>ph</th>\n",
       "      <th>peso(kg)</th>\n",
       "      <th>diametro(cm)</th>\n",
       "      <th>fruta</th>\n",
       "    </tr>\n",
       "  </thead>\n",
       "  <tbody>\n",
       "    <tr>\n",
       "      <th>0</th>\n",
       "      <td>2.980056</td>\n",
       "      <td>0.059878</td>\n",
       "      <td>8.303492</td>\n",
       "      <td>0</td>\n",
       "    </tr>\n",
       "    <tr>\n",
       "      <th>1</th>\n",
       "      <td>2.619839</td>\n",
       "      <td>0.059534</td>\n",
       "      <td>9.563558</td>\n",
       "      <td>0</td>\n",
       "    </tr>\n",
       "    <tr>\n",
       "      <th>2</th>\n",
       "      <td>2.983526</td>\n",
       "      <td>0.040029</td>\n",
       "      <td>8.921555</td>\n",
       "      <td>0</td>\n",
       "    </tr>\n",
       "    <tr>\n",
       "      <th>3</th>\n",
       "      <td>2.827375</td>\n",
       "      <td>0.046539</td>\n",
       "      <td>5.919455</td>\n",
       "      <td>0</td>\n",
       "    </tr>\n",
       "    <tr>\n",
       "      <th>4</th>\n",
       "      <td>2.979685</td>\n",
       "      <td>0.055912</td>\n",
       "      <td>9.392527</td>\n",
       "      <td>0</td>\n",
       "    </tr>\n",
       "  </tbody>\n",
       "</table>\n",
       "</div>"
      ],
      "text/plain": [
       "         ph  peso(kg)  diametro(cm)  fruta\n",
       "0  2.980056  0.059878      8.303492      0\n",
       "1  2.619839  0.059534      9.563558      0\n",
       "2  2.983526  0.040029      8.921555      0\n",
       "3  2.827375  0.046539      5.919455      0\n",
       "4  2.979685  0.055912      9.392527      0"
      ]
     },
     "execution_count": 2,
     "metadata": {},
     "output_type": "execute_result"
    }
   ],
   "source": [
    "# importando dataset\n",
    "dataset = pd.read_csv(\"frutas.csv\")\n",
    "dataset.head()"
   ]
  },
  {
   "cell_type": "code",
   "execution_count": 3,
   "metadata": {},
   "outputs": [
    {
     "data": {
      "text/plain": [
       "array([[ 2.98005606e+00,  5.98781498e-02,  8.30349159e+00],\n",
       "       [ 2.61983873e+00,  5.95344254e-02,  9.56355780e+00],\n",
       "       [ 2.98352600e+00,  4.00289555e-02,  8.92155540e+00],\n",
       "       [ 2.82737493e+00,  4.65386710e-02,  5.91945531e+00],\n",
       "       [ 2.97968528e+00,  5.59116887e-02,  9.39252729e+00],\n",
       "       [ 2.99625546e+00,  5.36535158e-02,  7.63980642e+00],\n",
       "       [ 3.30110957e+00,  4.72463817e-02,  8.08016791e+00],\n",
       "       [ 3.42557126e+00,  5.15197758e-02,  6.19331529e+00],\n",
       "       [ 2.78253640e+00,  3.49039649e-02,  6.81114797e+00],\n",
       "       [ 3.55385466e+00,  3.74214658e-02,  7.66047212e+00],\n",
       "       [ 3.52264228e+00,  7.03788412e-02,  8.67622907e+00],\n",
       "       [ 2.84906888e+00,  6.15340605e-02,  7.99957211e+00],\n",
       "       [ 2.88285328e+00,  4.35992624e-02,  8.89179211e+00],\n",
       "       [ 3.28386152e+00,  5.01243049e-02,  9.01991579e+00],\n",
       "       [ 2.74989284e+00,  6.18838284e-02,  7.91505903e+00],\n",
       "       [ 3.47640560e+00,  4.55800761e-02,  9.87091082e+00],\n",
       "       [ 2.31414672e+00,  4.36382278e-02,  6.31943899e+00],\n",
       "       [ 3.05396908e+00,  3.75028726e-02,  8.58045472e+00],\n",
       "       [ 3.17790460e+00,  5.40863091e-02,  7.62749682e+00],\n",
       "       [ 2.64188641e+00,  4.92468910e-02,  7.51471221e+00],\n",
       "       [ 3.32264822e+00,  5.77053758e-02,  6.66629262e+00],\n",
       "       [ 2.81368440e+00,  3.95563911e-02,  8.09843341e+00],\n",
       "       [ 2.61065450e+00,  6.56394089e-02,  7.86926648e+00],\n",
       "       [ 2.85756338e+00,  5.96806626e-02,  1.00976806e+01],\n",
       "       [ 2.66268034e+00,  4.93837770e-02,  6.46832052e+00],\n",
       "       [ 2.79148819e+00,  5.12590753e-02,  8.75494397e+00],\n",
       "       [ 2.89492856e+00,  3.17259438e-02,  9.32979184e+00],\n",
       "       [ 2.62831475e+00,  5.26751063e-02,  8.33789080e+00],\n",
       "       [ 3.36997391e+00,  5.52088537e-02,  9.16219288e+00],\n",
       "       [ 3.71136750e+00,  2.63781842e-02,  7.18163405e+00],\n",
       "       [ 1.44097935e+00,  2.99660943e-02,  4.46971416e+00],\n",
       "       [ 1.66414283e+00,  1.47930552e-02,  5.39440116e+00],\n",
       "       [ 1.71110456e+00,  3.21028074e-02,  4.42332394e+00],\n",
       "       [ 1.73914795e+00,  2.94219076e-02,  5.50417054e+00],\n",
       "       [ 1.81349593e+00,  3.01425545e-02,  5.60561774e+00],\n",
       "       [ 1.95589089e+00,  4.23251612e-02,  5.06891546e+00],\n",
       "       [ 1.40780835e+00,  1.78012063e-02,  4.68418069e+00],\n",
       "       [ 1.85594785e+00,  2.69770670e-02,  5.54623518e+00],\n",
       "       [ 1.58556472e+00,  3.48432030e-02,  5.59065545e+00],\n",
       "       [ 1.61070647e+00,  1.90936120e-02,  5.39413827e+00],\n",
       "       [ 1.68386586e+00,  1.57696997e-02,  5.62789967e+00],\n",
       "       [ 1.99654035e+00,  5.44275837e-02,  5.42980230e+00],\n",
       "       [ 2.26377191e+00,  2.24263759e-02,  3.90229110e+00],\n",
       "       [ 2.22383988e+00,  2.64365754e-02,  5.33154422e+00],\n",
       "       [ 1.85099755e+00,  3.60263545e-02,  5.56000725e+00],\n",
       "       [ 1.60363510e+00,  2.67761742e-02,  4.12034817e+00],\n",
       "       [ 1.80611619e+00,  4.59216729e-02,  4.99219039e+00],\n",
       "       [ 1.84745519e+00,  3.44708294e-02,  4.67408820e+00],\n",
       "       [ 1.79002490e+00,  3.88195763e-02,  5.51769353e+00],\n",
       "       [ 1.89302933e+00,  2.38412266e-02,  4.98957482e+00],\n",
       "       [ 2.14879159e+00,  2.21726260e-02,  4.89281669e+00],\n",
       "       [ 2.09604719e+00,  3.69393368e-02,  6.00048293e+00],\n",
       "       [ 2.31658583e+00,  2.19204149e-02,  4.17991918e+00],\n",
       "       [ 1.64956488e+00,  2.81103641e-02,  5.60094781e+00],\n",
       "       [ 1.84036650e+00,  3.05598737e-02,  4.99500639e+00],\n",
       "       [ 1.18661594e+00,  4.76427989e-02,  4.37276044e+00],\n",
       "       [ 1.74156808e+00,  2.81665920e-02,  4.62286238e+00],\n",
       "       [ 2.15947723e+00,  2.81867969e-02,  4.46379347e+00],\n",
       "       [ 1.59197809e+00,  2.01167571e-02,  4.43351074e+00],\n",
       "       [ 1.85956639e+00,  4.39664575e-02,  5.80194451e+00],\n",
       "       [ 4.94923319e+00,  1.35485028e-01,  1.96745779e+01],\n",
       "       [ 5.67457347e+00,  2.18106727e-01,  1.94679662e+01],\n",
       "       [ 5.05580552e+00,  2.71288928e-01,  2.04837155e+01],\n",
       "       [ 5.32562273e+00,  1.41332799e-01,  2.00200767e+01],\n",
       "       [ 5.25540411e+00,  1.68692498e-01,  1.89541547e+01],\n",
       "       [ 5.18204529e+00,  1.09906163e-02,  2.03045256e+01],\n",
       "       [ 4.58505209e+00,  9.28497276e-02,  2.13019238e+01],\n",
       "       [ 5.69102993e+00,  2.94459089e-01,  1.92514046e+01],\n",
       "       [ 5.10223566e+00,  9.84780015e-02,  2.01939273e+01],\n",
       "       [ 5.12990569e+00, -2.57308882e-02,  2.18250976e+01],\n",
       "       [ 4.57986932e+00,  2.68736301e-01,  2.09102598e+01],\n",
       "       [ 5.02523928e+00,  2.23940556e-01,  1.99196713e+01],\n",
       "       [ 5.34914676e+00,  3.60370997e-01,  1.90925745e+01],\n",
       "       [ 4.94119483e+00,  2.85982611e-01,  1.86675354e+01],\n",
       "       [ 4.93931523e+00,  1.45680238e-01,  1.94535798e+01],\n",
       "       [ 5.51805397e+00,  2.30500262e-01,  1.98513589e+01],\n",
       "       [ 4.74631903e+00,  3.19972705e-01,  2.12580475e+01],\n",
       "       [ 5.29833601e+00,  6.48261490e-02,  2.01320876e+01],\n",
       "       [ 4.99902797e+00,  2.54086728e-01,  1.98783435e+01],\n",
       "       [ 5.40267157e+00,  3.13829495e-01,  2.11989365e+01],\n",
       "       [ 5.29913244e+00,  4.31126074e-02,  2.04289391e+01],\n",
       "       [ 4.87477785e+00,  1.32233358e-01,  2.04498930e+01],\n",
       "       [ 4.99370013e+00,  1.49686361e-01,  1.89788284e+01],\n",
       "       [ 4.93310539e+00,  1.55279718e-01,  1.94898777e+01],\n",
       "       [ 5.07683865e+00,  2.37422504e-01,  2.15246766e+01],\n",
       "       [ 4.98860199e+00,  4.36846043e-01,  1.83312871e+01],\n",
       "       [ 5.09283748e+00,  9.50951970e-02,  1.94852562e+01],\n",
       "       [ 4.60702643e+00,  1.74709394e-01,  1.86240378e+01],\n",
       "       [ 4.96315341e+00,  2.62235978e-01,  1.94808402e+01],\n",
       "       [ 5.57600365e+00,  1.98306726e-01,  1.96893446e+01]])"
      ]
     },
     "execution_count": 3,
     "metadata": {},
     "output_type": "execute_result"
    }
   ],
   "source": [
    "# extraindo características (x)\n",
    "x = np.array(dataset.loc[:, [\"ph\", \"peso(kg)\", \"diametro(cm)\"]])\n",
    "x"
   ]
  },
  {
   "cell_type": "code",
   "execution_count": 11,
   "metadata": {},
   "outputs": [
    {
     "data": {
      "text/plain": [
       "array([0, 0, 0, 0, 0, 0, 0, 0, 0, 0, 0, 0, 0, 0, 0, 0, 0, 0, 0, 0, 0, 0,\n",
       "       0, 0, 0, 0, 0, 0, 0, 0, 1, 1, 1, 1, 1, 1, 1, 1, 1, 1, 1, 1, 1, 1,\n",
       "       1, 1, 1, 1, 1, 1, 1, 1, 1, 1, 1, 1, 1, 1, 1, 1, 2, 2, 2, 2, 2, 2,\n",
       "       2, 2, 2, 2, 2, 2, 2, 2, 2, 2, 2, 2, 2, 2, 2, 2, 2, 2, 2, 2, 2, 2,\n",
       "       2, 2], dtype=int64)"
      ]
     },
     "execution_count": 11,
     "metadata": {},
     "output_type": "execute_result"
    }
   ],
   "source": [
    "# extraindo resultado\n",
    "d = np.array(dataset.loc[:,\"fruta\"])\n",
    "d"
   ]
  },
  {
   "cell_type": "markdown",
   "metadata": {},
   "source": [
    "#### Mapeando saídas:\n",
    "\n",
    "Como nossa rede possui 3 neurônios de saída, vamos mapear qual será a saída esperada de cada neurônio para cada fruta\n",
    "\n",
    "Fruta | Neurônio 0 | Neurônio 1 | Neurônio 2\n",
    "---|---|---|---\n",
    "Maçã  | 1 | 0 | 0\n",
    "Limão | 0|1|0\n",
    "Melão|0|0|1"
   ]
  },
  {
   "cell_type": "code",
   "execution_count": 5,
   "metadata": {},
   "outputs": [],
   "source": [
    "# Mapeando classe para vetor\n",
    "def vetorizar(d):\n",
    "    saidas = []\n",
    "    for fruta in d:\n",
    "        if fruta == 0:\n",
    "            saidas.append(np.array([1, 0, 0]))\n",
    "        elif fruta == 1:\n",
    "            saidas.append(np.array([0, 1, 0]))\n",
    "        else:\n",
    "            saidas.append(np.array([0, 0, 1]))\n",
    "\n",
    "    return np.array(saidas)\n",
    "\n",
    "# Mapeando vetor para classe\n",
    "def classificar(vetor):\n",
    "    classes = []\n",
    "    for y in vetor:\n",
    "        maximo = np.argmax(y)\n",
    "        classes.append(maximo)\n",
    "        \n",
    "    return classes"
   ]
  },
  {
   "cell_type": "code",
   "execution_count": 12,
   "metadata": {},
   "outputs": [],
   "source": [
    "d = vetorizar(d)\n",
    "\n",
    "# Embaralhando os dados\n",
    "shuffle = np.random.permutation(len(x))\n",
    "x = x[shuffle]\n",
    "d = d[shuffle]"
   ]
  },
  {
   "cell_type": "code",
   "execution_count": 13,
   "metadata": {},
   "outputs": [],
   "source": [
    "# Separando dados de treino (20%) e teste (20%)\n",
    "limite = int(len(x) * 0.8)\n",
    "\n",
    "x_treino = x[0:limite]\n",
    "x_teste = x[limite: ]\n",
    "\n",
    "d_treino = d[0:limite]\n",
    "d_teste = d[limite: ]"
   ]
  },
  {
   "cell_type": "code",
   "execution_count": 41,
   "metadata": {},
   "outputs": [],
   "source": [
    "class MLP():\n",
    "    \n",
    "    def __init__(self, lr, e, neurons):\n",
    "        \"\"\" Construtor \"\"\"\n",
    "        # Taxa de aprendizado \n",
    "        self.lr = lr\n",
    "        \n",
    "        # tolerância\n",
    "        self.e = e\n",
    "        \n",
    "        # Quantidade de neurônios por camadas\n",
    "        self.neurons = neurons\n",
    "        \n",
    "        \n",
    "    def sigmoid(self, valor):\n",
    "        '''Calcula a sigmoid de um valor'''\n",
    "        return (1/(1+math.e**(-valor)))\n",
    "\n",
    "    def sigmoid_deriv(self, valor):\n",
    "        '''Calcula a derivada da função sigmoid'''\n",
    "        sig = self.sigmoid(valor)\n",
    "        return sig*(1 - sig)\n",
    "\n",
    "    def activate(self, valor):\n",
    "        '''Ativa as saídas do neurônio'''\n",
    "        return self.sigmoid(valor)\n",
    "    \n",
    "    def deriv(self, valor):\n",
    "        '''Calcular a derivada da função de ativação'''\n",
    "        return self.sigmoid_deriv(valor)\n",
    "\n",
    "    def evaluate(self, target, predicted):\n",
    "        '''Calcula a diferença entre o valor real e o valor predito'''\n",
    "        return (target - predicted)\n",
    "\n",
    "    def predict(self, input_data, weights):\n",
    "        '''Calcula a soma ponderada das entradas pelo peso'''\n",
    "        return np.dot(input_data, weights).reshape(1, -1)\n",
    "    \n",
    "    \n",
    "    def train(self, x, d):\n",
    "        ''' \n",
    "        Definir aleatoriamente os pesos, o bias e o peso do bias\n",
    "        Enquanto a diferença entre m mse_anterior e o mse_atual for maior que 'e' continua o processo \n",
    "        '''\n",
    "        self.w1 = np.random.random((x.shape[1]+1,self.neurons[0]))\n",
    "        self.w2 = np.random.random((self.neurons[0], self.neurons[1]))\n",
    "        self.w3 = np.random.random((self.neurons[1], self.neurons[2]))\n",
    "        \n",
    "        epoch = 0\n",
    "        last_mse = np.inf\n",
    "        self.total_mse = []\n",
    "        self.bias = -1\n",
    "        \n",
    "        while True:\n",
    "            mse = 0\n",
    "            for xi, target in zip(x,d):\n",
    "                input_value = np.insert(xi, 0, self.bias)\n",
    "                i1 = self.predict(input_value, self.w1)\n",
    "                y1 = self.activate(i1)\n",
    "                i2 = self.predict(y1, self.w2)\n",
    "                y2 = self.activate(i2)\n",
    "                i3 = self.predict(y2, self.w3)\n",
    "                y3 = self.activate(i3)\n",
    "                current_error = self.evaluate(target, y3)\n",
    "                mse+=(current_error ** 2)\n",
    "\n",
    "                delta3 = (target - y3) * self.deriv(i3)\n",
    "                self.w3 += self.lr * np.dot(y2.T, delta3)\n",
    "\n",
    "                delta2 = np.dot(delta3, self.w3.T) * self.deriv(i2)\n",
    "                self.w2 += self.lr * np.dot(y1.T, delta2)\n",
    "\n",
    "                delta1 = np.dot(delta2, self.w2.T) * self.deriv(i1)\n",
    "                self.w1 += self.lr * np.dot(input_value.reshape(1, -1).T, delta1)\n",
    "\n",
    "            mse = sum(mse[0]) / len(x)\n",
    "            \n",
    "            print(f\"EPOCH: {epoch} - MSE: {mse} - |mse_ant - mse|: {abs(last_mse - mse)}\")\n",
    "            if abs(last_mse - mse) <= self.e:\n",
    "                break\n",
    "            \n",
    "            self.total_mse.append(mse)\n",
    "            last_mse = mse\n",
    "            epoch += 1\n",
    "            \n",
    "            \n",
    "    def test(self, x):\n",
    "        ''' Dado uma lista de X, submete-os à rede'''\n",
    "        results = []\n",
    "        for xi in x:\n",
    "            input_value = np.insert(xi, 0, self.bias)\n",
    "            i1 = self.predict(input_value, self.w1)\n",
    "            y1 = self.activate(i1)\n",
    "            i2 = self.predict(y1, self.w2)\n",
    "            y2 = self.activate(i2)\n",
    "            i3 = self.predict(y2, self.w3)\n",
    "            y3 = self.activate(i3)\n",
    "            \n",
    "            results.append(y3[0])\n",
    "            \n",
    "        return results"
   ]
  },
  {
   "cell_type": "code",
   "execution_count": 50,
   "metadata": {
    "scrolled": true
   },
   "outputs": [
    {
     "name": "stdout",
     "output_type": "stream",
     "text": [
      "EPOCH: 0 - MSE: 1.054979762915512 - |mse_ant - mse|: inf\n",
      "EPOCH: 1 - MSE: 0.7445887473854096 - |mse_ant - mse|: 0.3103910155301024\n",
      "EPOCH: 2 - MSE: 0.6822209040768645 - |mse_ant - mse|: 0.06236784330854506\n",
      "EPOCH: 3 - MSE: 0.6760903240272818 - |mse_ant - mse|: 0.006130580049582779\n"
     ]
    }
   ],
   "source": [
    "rede = MLP(lr = 0.1, e = 1e-2, neurons = [5, 4, 3])\n",
    "rede.train(x = x_treino, d = d_treino)"
   ]
  },
  {
   "cell_type": "code",
   "execution_count": 51,
   "metadata": {},
   "outputs": [
    {
     "data": {
      "text/plain": [
       "[array([0.33079241, 0.30271749, 0.38067645]),\n",
       " array([0.3300377 , 0.30207727, 0.38038593]),\n",
       " array([0.32970697, 0.30204859, 0.38060924]),\n",
       " array([0.33473862, 0.30746426, 0.38414018]),\n",
       " array([0.3258539 , 0.29807398, 0.37809974]),\n",
       " array([0.3313318 , 0.30351762, 0.38136991]),\n",
       " array([0.33513036, 0.30743384, 0.38377826]),\n",
       " array([0.34099583, 0.3135658 , 0.38749901]),\n",
       " array([0.33059295, 0.30267169, 0.38077552]),\n",
       " array([0.33438462, 0.30657421, 0.38318333]),\n",
       " array([0.3260203 , 0.29822782, 0.37818158]),\n",
       " array([0.32607555, 0.29827335, 0.37820291]),\n",
       " array([0.32978261, 0.30205937, 0.38056467]),\n",
       " array([0.3358942 , 0.30813865, 0.38414023]),\n",
       " array([0.33664985, 0.30916843, 0.38496037]),\n",
       " array([0.32617442, 0.29836347, 0.37825018]),\n",
       " array([0.32616778, 0.29835591, 0.3782453 ]),\n",
       " array([0.33720488, 0.30946225, 0.38491557])]"
      ]
     },
     "execution_count": 51,
     "metadata": {},
     "output_type": "execute_result"
    }
   ],
   "source": [
    "resultado = rede.test(x_teste)\n",
    "resultado"
   ]
  },
  {
   "cell_type": "code",
   "execution_count": 44,
   "metadata": {},
   "outputs": [
    {
     "data": {
      "text/plain": [
       "array([[1, 0, 0],\n",
       "       [1, 0, 0],\n",
       "       [1, 0, 0],\n",
       "       [0, 1, 0],\n",
       "       [0, 0, 1],\n",
       "       [1, 0, 0],\n",
       "       [0, 1, 0],\n",
       "       [0, 1, 0],\n",
       "       [1, 0, 0],\n",
       "       [0, 1, 0],\n",
       "       [0, 0, 1],\n",
       "       [0, 0, 1],\n",
       "       [1, 0, 0],\n",
       "       [0, 1, 0],\n",
       "       [0, 1, 0],\n",
       "       [0, 0, 1],\n",
       "       [0, 0, 1],\n",
       "       [0, 1, 0]])"
      ]
     },
     "execution_count": 44,
     "metadata": {},
     "output_type": "execute_result"
    }
   ],
   "source": [
    "d_teste"
   ]
  },
  {
   "cell_type": "code",
   "execution_count": 52,
   "metadata": {
    "scrolled": false
   },
   "outputs": [],
   "source": [
    "classes_resultado = classificar(resultado)\n",
    "classes_esperado = classificar(d_teste)"
   ]
  },
  {
   "cell_type": "code",
   "execution_count": 53,
   "metadata": {},
   "outputs": [
    {
     "name": "stdout",
     "output_type": "stream",
     "text": [
      "[2, 2, 2, 2, 2, 2, 2, 2, 2, 2, 2, 2, 2, 2, 2, 2, 2, 2]\n"
     ]
    }
   ],
   "source": [
    "print(classes_resultado)"
   ]
  },
  {
   "cell_type": "code",
   "execution_count": 54,
   "metadata": {},
   "outputs": [
    {
     "name": "stdout",
     "output_type": "stream",
     "text": [
      "[0, 0, 0, 1, 2, 0, 1, 1, 0, 1, 2, 2, 0, 1, 1, 2, 2, 1]\n"
     ]
    }
   ],
   "source": [
    "print(classes_esperado)"
   ]
  },
  {
   "cell_type": "code",
   "execution_count": 55,
   "metadata": {},
   "outputs": [],
   "source": [
    "def acuracia(real, predito):\n",
    "    acertos = 0\n",
    "    for i in range(len(real)):\n",
    "        if real[i] == predito[i]:\n",
    "            acertos+=1\n",
    "    \n",
    "    return acertos/len(real)"
   ]
  },
  {
   "cell_type": "code",
   "execution_count": 56,
   "metadata": {},
   "outputs": [
    {
     "data": {
      "text/plain": [
       "0.2777777777777778"
      ]
     },
     "execution_count": 56,
     "metadata": {},
     "output_type": "execute_result"
    }
   ],
   "source": [
    "acuracia(classes_esperado, classes_resultado)"
   ]
  },
  {
   "cell_type": "code",
   "execution_count": null,
   "metadata": {},
   "outputs": [],
   "source": []
  }
 ],
 "metadata": {
  "kernelspec": {
   "display_name": "Python 3",
   "language": "python",
   "name": "python3"
  },
  "language_info": {
   "codemirror_mode": {
    "name": "ipython",
    "version": 3
   },
   "file_extension": ".py",
   "mimetype": "text/x-python",
   "name": "python",
   "nbconvert_exporter": "python",
   "pygments_lexer": "ipython3",
   "version": "3.7.9"
  }
 },
 "nbformat": 4,
 "nbformat_minor": 4
}
