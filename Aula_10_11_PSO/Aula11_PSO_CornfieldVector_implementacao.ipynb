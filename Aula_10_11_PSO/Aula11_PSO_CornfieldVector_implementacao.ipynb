{
 "cells": [
  {
   "cell_type": "markdown",
   "metadata": {},
   "source": [
    "# Particle Swarm Optimization (PSO)\n",
    "\n",
    "* Algoritmo evolucionário\n",
    "* Reproduzir comportamento de espécies\n",
    "\n",
    "<img src = \"images/birds.png\" width = 800>"
   ]
  },
  {
   "cell_type": "markdown",
   "metadata": {},
   "source": [
    "## The Cornfield Vector\n",
    "* Simular geograficamente o comportamento das espécies\n",
    "* Lembrança da melhor posição individual\n",
    "* Lembrança da melhor posição global\n",
    "\n",
    "<img src=\"images/cornfieldvector.png\" width = 500>"
   ]
  },
  {
   "cell_type": "code",
   "execution_count": 1,
   "metadata": {},
   "outputs": [],
   "source": [
    "import numpy as np"
   ]
  },
  {
   "cell_type": "markdown",
   "metadata": {},
   "source": [
    "### Funções gerais\n",
    "\n",
    "#### Minimizar x**2 + y**2"
   ]
  },
  {
   "cell_type": "markdown",
   "metadata": {},
   "source": [
    "<img src=\"images/function.png\" width=300>"
   ]
  },
  {
   "cell_type": "code",
   "execution_count": 2,
   "metadata": {},
   "outputs": [],
   "source": [
    "class Utils:\n",
    "    \n",
    "    @staticmethod\n",
    "    def function(position):\n",
    "        '''\n",
    "        Calcula a distância euclidiana\n",
    "        '''\n",
    "        position = np.array(position)\n",
    "        result = sum(position**2)\n",
    "            \n",
    "        return result"
   ]
  },
  {
   "cell_type": "markdown",
   "metadata": {},
   "source": [
    "### Classe de partículas\n",
    "\n",
    "<img src = \"images/particle.png\" width = 400>"
   ]
  },
  {
   "cell_type": "code",
   "execution_count": 3,
   "metadata": {},
   "outputs": [],
   "source": [
    "class Particle:\n",
    "    def __init__(self, num_dimensions, bounds):\n",
    "        '''\n",
    "        Construtor\n",
    "        '''\n",
    "        self.num_dimensions = num_dimensions\n",
    "        self.bounds = bounds\n",
    "        self.position = []\n",
    "        self.velocity = []\n",
    "        \n",
    "        self.pbest = []\n",
    "        self.pbest_score = np.inf\n",
    "        self.score = np.inf\n",
    "        \n",
    "        # Para cada dimensão definir valores aleatórios entre os limites\n",
    "        for i in range(self.num_dimensions):\n",
    "            lower_bound = self.bounds[i][0]\n",
    "            upper_bound = self.bounds[i][1]\n",
    "            self.position.append(np.random.uniform(lower_bound, upper_bound))\n",
    "            self.velocity.append(np.random.uniform(lower_bound, upper_bound))\n",
    "            \n",
    "    def __repr__(self):\n",
    "        return f\"\\nPosition {self.position}\\nVelocity {self.velocity}\"\n",
    "            \n",
    "    def evaluate(self):\n",
    "        '''\n",
    "        Avaliação da função e atualização do pbest\n",
    "        '''\n",
    "        # IMPLEMENTAR\n",
    "        self.score = Utils.function(self.position)\n",
    "        if self.score < self.pbest_score:\n",
    "            self.pbest = self.position\n",
    "            self.pbest_score = self.score\n",
    "            \n",
    "    def calculate_velocity(self, best):\n",
    "        '''\n",
    "        Gerando nova velocidade baseado na melhor posição (local ou global)\n",
    "        Todas as operações são feitas simultaneamente para todas as dimensões\n",
    "        Args:\n",
    "            - best: posição do melhor (pbest ou gbest)\n",
    "        '''\n",
    "        # IMPLEMENTAR\n",
    "        \n",
    "        # Calculando diferença entre a posição atual e a melhor\n",
    "        delta = np.array(best) - np.array(self.position)\n",
    "        \n",
    "        # Sorteando magnitude aleatória\n",
    "        magnitude = np.random.uniform(0, 0.51, size = self.num_dimensions)\n",
    "        \n",
    "        # Multiplicando a magnitude pelo delta\n",
    "        return delta*magnitude\n",
    "    \n",
    "    def update_velocity(self, gbest_pos, velocity_rate):\n",
    "        '''\n",
    "        Atualizar a nova velocidade\n",
    "        Calcula a velocidade cognitiva (pbest) e a velocidade social (gbest) e atualiza a própria velocidade\n",
    "        baseado em uma taxa para cada velocidade\n",
    "        '''\n",
    "        # IMPLEMENTAR\n",
    "        cognitive_velocity = self.calculate_velocity(self.pbest)\n",
    "        social_velocity = self.calculate_velocity(gbest_pos)\n",
    "        \n",
    "        self.velocity = (np.array(self.velocity)*velocity_rate[0]\n",
    "                        + cognitive_velocity * velocity_rate[1]\n",
    "                        + social_velocity * velocity_rate[2])\n",
    "        \n",
    "    def update_position(self):\n",
    "        '''\n",
    "        Atualizando a posição e verificando os limites\n",
    "        '''\n",
    "        self.position = list(np.array(self.position) + np.array(self.velocity))\n",
    "                "
   ]
  },
  {
   "cell_type": "markdown",
   "metadata": {},
   "source": [
    "### Classe do enxame"
   ]
  },
  {
   "cell_type": "code",
   "execution_count": 4,
   "metadata": {},
   "outputs": [],
   "source": [
    "class Swarm:\n",
    "\n",
    "    def __init__(self, particles):\n",
    "        '''\n",
    "        Construtor\n",
    "        '''\n",
    "        # IMPLEMENTAR\n",
    "        self.particles = particles\n",
    "        self.gbest = []\n",
    "        self.gbest_score = np.inf\n",
    "        \n",
    "    def swarm_evaluate(self):\n",
    "        '''\n",
    "        Percorre todas as partículas para avaliá-las\n",
    "        '''\n",
    "        for p in self.particles:\n",
    "            p.evaluate()\n",
    "            \n",
    "    def swarm_update_velocities(self, VELOCITY_RATE):\n",
    "        '''\n",
    "        Percorre todas as partículas e chama a função para atualizar a velocidade\n",
    "        '''\n",
    "        for p in self.particles:\n",
    "            p.update_velocity(self.gbest, VELOCITY_RATE)\n",
    "\n",
    "    def swarm_update_positions(self):\n",
    "        '''\n",
    "        Percorre todas as partículas e chama a função para atualizar a posição\n",
    "        '''\n",
    "        for p in self.particles:\n",
    "            p.update_position()\n",
    "            \n",
    "    def swarm_update_gbest(self):\n",
    "        '''\n",
    "        Atualiza o gbest baseado no pbest de cada indivíduo\n",
    "        '''\n",
    "        # IMPLEMENTAR\n",
    "        for p in self.particles:\n",
    "            if p.pbest_score < self.gbest_score:\n",
    "                self.gbest_score = p.pbest_score\n",
    "                self.gbest = p.pbest\n",
    "                \n",
    "    def swarm_mean_score(self):\n",
    "        '''\n",
    "        Calcula a pontuação média do enxame\n",
    "        '''\n",
    "        # Lendo a pontuação de cada partícula e colocando em uma lista\n",
    "        scores = [p.score for p in self.particles]\n",
    "        return (sum(scores) / len(scores))"
   ]
  },
  {
   "cell_type": "markdown",
   "metadata": {},
   "source": [
    "### Principal"
   ]
  },
  {
   "cell_type": "code",
   "execution_count": 16,
   "metadata": {
    "scrolled": false
   },
   "outputs": [
    {
     "name": "stdout",
     "output_type": "stream",
     "text": [
      "Iteration 0\n",
      "Iteration 1\n",
      "Iteration 2\n",
      "Iteration 3\n",
      "Iteration 4\n",
      "Iteration 5\n",
      "Iteration 6\n",
      "Iteration 7\n",
      "Iteration 8\n",
      "Iteration 9\n",
      "Iteration 10\n",
      "Iteration 11\n",
      "Iteration 12\n",
      "Iteration 13\n",
      "Iteration 14\n",
      "Iteration 15\n",
      "Iteration 16\n",
      "Iteration 17\n",
      "Iteration 18\n",
      "Iteration 19\n"
     ]
    }
   ],
   "source": [
    "from plot_utils2 import PlotUtils\n",
    "\n",
    "NUM_ITERATIONS = 20\n",
    "NUM_PARTICLES = 10\n",
    "NUM_DIMENSIONS = 2\n",
    "BOUNDS = [(-10, 10), (-10, 10)]\n",
    "\n",
    "# VELOCITY_RATE -> velocidade atual, pbest, gbest\n",
    "VELOCITY_RATE = [0.5, 0.25, 0.25]\n",
    "\n",
    "if __name__ == \"__main__\":\n",
    "    PlotUtils.start_plot()\n",
    "    gbest_historic = []\n",
    "    score_historic = []\n",
    "\n",
    "    particles = []\n",
    "    for i in range(NUM_PARTICLES):\n",
    "        particles.append(Particle(NUM_DIMENSIONS, BOUNDS))\n",
    "    swarm = Swarm(particles)\n",
    "\n",
    "    i = 0\n",
    "    while i < NUM_ITERATIONS:\n",
    "        print(f\"Iteration {i}\")\n",
    "        \n",
    "        swarm.swarm_evaluate()\n",
    "        swarm.swarm_update_gbest()\n",
    "        swarm.swarm_update_velocities(VELOCITY_RATE)\n",
    "        swarm.swarm_update_positions()\n",
    "        \n",
    "        gbest_historic.append(swarm.gbest_score)\n",
    "        score_historic.append(swarm.swarm_mean_score())\n",
    "\n",
    "        for p in swarm.particles:\n",
    "            PlotUtils.plot_particle(p)\n",
    "        PlotUtils.plot_iteration(i)\n",
    "        \n",
    "        i += 1\n",
    "\n",
    "    PlotUtils.save()"
   ]
  },
  {
   "cell_type": "code",
   "execution_count": 14,
   "metadata": {},
   "outputs": [
    {
     "data": {
      "image/png": "[encoded data removed]",
      "text/plain": [
       "<Figure size 864x576 with 2 Axes>"
      ]
     },
     "metadata": {
      "needs_background": "light"
     },
     "output_type": "display_data"
    }
   ],
   "source": [
    "import matplotlib.pyplot as plt\n",
    "\n",
    "plt.figure(figsize = (12,8))\n",
    "\n",
    "plt.subplot(2, 1, 1)\n",
    "plt.title(\"GBEST\")\n",
    "plt.plot(gbest_historic, marker = 'o', color = 'black')\n",
    "\n",
    "plt.subplot(2, 1, 2)\n",
    "plt.title(\"MEAN SCORE\")\n",
    "plt.plot(score_historic, marker = 'o', color = 'red')\n",
    "\n",
    "plt.show()"
   ]
  },
  {
   "cell_type": "code",
   "execution_count": 15,
   "metadata": {},
   "outputs": [
    {
     "name": "stdout",
     "output_type": "stream",
     "text": [
      "Melhor posição: [-0.0007914903560758105, -0.007746723357629174]\n",
      "Melhor pontuação: 6.063817976339843e-05\n"
     ]
    }
   ],
   "source": [
    "print(f\"Melhor posição: {swarm.gbest}\")\n",
    "print(f\"Melhor pontuação: {swarm.gbest_score}\")"
   ]
  },
  {
   "cell_type": "code",
   "execution_count": null,
   "metadata": {},
   "outputs": [],
   "source": []
  }
 ],
 "metadata": {
  "kernelspec": {
   "display_name": "Python 3",
   "language": "python",
   "name": "python3"
  },
  "language_info": {
   "codemirror_mode": {
    "name": "ipython",
    "version": 3
   },
   "file_extension": ".py",
   "mimetype": "text/x-python",
   "name": "python",
   "nbconvert_exporter": "python",
   "pygments_lexer": "ipython3",
   "version": "3.7.9"
  }
 },
 "nbformat": 4,
 "nbformat_minor": 4
}
