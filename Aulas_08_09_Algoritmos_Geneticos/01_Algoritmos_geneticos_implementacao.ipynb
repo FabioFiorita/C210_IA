{
 "cells": [
  {
   "cell_type": "markdown",
   "metadata": {},
   "source": [
    "## Algoritmos genéticos\n",
    "\n",
    "- Tipo de algoritmo evolucionário\n",
    "- Busca reproduzir o comportamento biológico\n",
    "- Populações de indivíduos são criadas e submetidas a operações genéticas\n",
    " - Seleção\n",
    " - Recombinação / Crossover\n",
    " - Mutação\n",
    " - Elitismo\n",
    " \n",
    "<img src=\"images/alg_gen.png\" width = 600>"
   ]
  },
  {
   "cell_type": "markdown",
   "metadata": {},
   "source": [
    "### Fenótipo x Genótipo\n",
    "- Fenótipo: Representação visual de um estado\n",
    "- Genótipo: Representação binária de um estado\n",
    "\n",
    "<img src = \"images/fen_gen.png\" width = 600>"
   ]
  },
  {
   "cell_type": "markdown",
   "metadata": {},
   "source": [
    "### BitSet\n",
    "- Estrutura de dados auxiliar para representar os cromossomos de forma binária"
   ]
  },
  {
   "cell_type": "code",
   "execution_count": 1,
   "metadata": {},
   "outputs": [],
   "source": [
    "import numpy as np\n",
    "import random\n",
    "\n",
    "# Classe para manutenção de dados no formato de conjunto de bits\n",
    "class BitSet:\n",
    "    \n",
    "    def __init__(self, size):\n",
    "        '''\n",
    "        Construtor\n",
    "        Args:\n",
    "            - size: tamanho do bitset\n",
    "        '''\n",
    "        # Preencher um array [size] com False\n",
    "        self.bits = np.full(size, False)\n",
    "        \n",
    "    def __repr__(self):\n",
    "        '''Definir o que aparecerá quando um objeto for printado'''\n",
    "        return (f\"{self.bits*1}\")\n",
    "        \n",
    "    def get(self, index):\n",
    "        '''\n",
    "        Retornar o bit da posição 'index'\n",
    "        Args:\n",
    "            - index: posição do bit\n",
    "        '''\n",
    "        return self.bits[index]\n",
    "    \n",
    "    def set_(self, index, value):\n",
    "        '''\n",
    "        Substitui o bit da posição 'index' pelo 'value'\n",
    "        Args:\n",
    "            - index: posição a ser substituída\n",
    "            - value: valor a ser adicionado na posição 'index'\n",
    "        '''\n",
    "        self.bits[index] = value\n",
    "        \n",
    "    def flip(self, index):\n",
    "        '''\n",
    "        Inverte o bit da posição 'index'\n",
    "        Args:\n",
    "            - index: índice do bit a ser invertido\n",
    "        '''\n",
    "        self.bits[index] = not self.bits[index]\n",
    "        \n",
    "    def debug(self):\n",
    "        '''\n",
    "        Printar os bits\n",
    "        '''\n",
    "        print(self.bits)"
   ]
  },
  {
   "cell_type": "code",
   "execution_count": 7,
   "metadata": {},
   "outputs": [],
   "source": []
  },
  {
   "cell_type": "markdown",
   "metadata": {},
   "source": [
    "### Cromossomos\n",
    "- Cada cromossomo é um indivíduo que possui seu próprio genótipo e fenótipo"
   ]
  },
  {
   "cell_type": "markdown",
   "metadata": {},
   "source": [
    "PARA ESSE EXERCÍCIO cada indivíduo terá 10 genes, os 5 primeiros representado, de forma binária, a variável x (o último bit será o sinal) e os 5 genes subsequentes representam a variável y\n",
    "<img src=\"images/individuo.png\" width=400>"
   ]
  },
  {
   "cell_type": "code",
   "execution_count": 2,
   "metadata": {},
   "outputs": [],
   "source": [
    "class Chromossome:\n",
    "    \n",
    "    def __init__(self, x = None, y = None):\n",
    "        '''\n",
    "        Construtor\n",
    "        Atribui o genótipo de x e y ao cromossomo\n",
    "        Args:\n",
    "            - x: valor de x\n",
    "            - y: valor de y\n",
    "        '''\n",
    "        ### implementar\n",
    "        \n",
    "        \n",
    "    def __repr__(self):\n",
    "        '''Apresentar os genes e a pontuação quando utilizar print(Chromossome)'''\n",
    "        return (f'(Gene: {self.genes}, Score: {self.score:.3f})')\n",
    "    \n",
    "    def __lt__(self, other):\n",
    "        ''' Ordenar em ordem crescente'''\n",
    "        return self.score > other.score\n",
    "        \n",
    "    \n",
    "    @staticmethod\n",
    "    def to_binary(variable):\n",
    "        '''\n",
    "        Converte o fenótipo (decimal) em genótipo(binário)\n",
    "        '''\n",
    "        ### implementar\n",
    "\n",
    "    @staticmethod\n",
    "    def get_genotype(x, y):\n",
    "        '''\n",
    "        Transforma os fenótipos em genótipos \n",
    "        '''\n",
    "        ### implementar\n",
    "\n",
    "    @staticmethod\n",
    "    def get_fenotype(genes):\n",
    "        '''\n",
    "        Transforma os valores binários dos genes em decimais \n",
    "        '''\n",
    "        # XXXXX YYYYY (5 bits to each variable: 4 for value and 1 for sign pos/neg)\n",
    "        # 01234 56789 (bits are indexed from left to right)\n",
    "        # 8421K 8421K (bits on indices 4 and 9 represent the variables sign, i.e.\n",
    "        #              0 represents a positive and 1 represents a negative value)\n",
    "\n",
    "        x = (8 * genes.get(0) + 4 * genes.get(1) +\n",
    "             2 * genes.get(2) + 1 * genes.get(3))\n",
    "\n",
    "        if (genes.get(4) == 1):\n",
    "            x *= -1\n",
    "\n",
    "        y = (8 * genes.get(5) + 4 * genes.get(6) +\n",
    "             2 * genes.get(7) + 1 * genes.get(8))\n",
    "\n",
    "        if (genes.get(9) == 1):\n",
    "            y *= -1\n",
    "\n",
    "        return x, y"
   ]
  },
  {
   "cell_type": "code",
   "execution_count": null,
   "metadata": {},
   "outputs": [],
   "source": []
  },
  {
   "cell_type": "markdown",
   "metadata": {},
   "source": [
    "### Problema\n",
    "- O problema a ser solucinado consiste em encontrar os valores de x e y que minimizem (idealmente 0) a seguinte função:\n",
    "\n",
    "${x^2 + y^2}$\n",
    "\n",
    "- Definir função: ${x^2 + y^2}$\n",
    "- Submeter cromossomos à função\n",
    "- Definir pontuação: Quanto mais próximo de 0 o resultado da função, mais próximo de 1 (100%) a pontuação\n",
    "- Submeter cromossomos à pontuação\n",
    "- Calcular média da função para uma população\n",
    "- Calcular média da pontuação para uma população"
   ]
  },
  {
   "cell_type": "code",
   "execution_count": 5,
   "metadata": {},
   "outputs": [],
   "source": [
    "class Problem:\n",
    "    \n",
    "    @staticmethod\n",
    "    def function(x, y):\n",
    "        '''\n",
    "        Função avaliada\n",
    "        '''\n",
    "\n",
    "    @staticmethod\n",
    "    def score(x, y):\n",
    "        '''\n",
    "        Função a ser minimizada\n",
    "        '''\n",
    "\n",
    "    @staticmethod\n",
    "    def score_chromossome(chromossome):\n",
    "        '''\n",
    "        Transforma o genótipo em fenótipo e calcula o valor da função\n",
    "        '''\n",
    "\n",
    "    @staticmethod\n",
    "    def score_average(population):\n",
    "        '''\n",
    "        Pontuação média da população\n",
    "        '''\n",
    "        \n",
    "        \n",
    "    @staticmethod\n",
    "    def update_chromossome_score(chromossome):\n",
    "        '''\n",
    "        Atualiza pontuação do cromossomo\n",
    "        '''\n",
    "        \n",
    "        \n",
    "        "
   ]
  },
  {
   "cell_type": "markdown",
   "metadata": {},
   "source": [
    "### Utils\n",
    "Funções genéricas para auxílio do processamento"
   ]
  },
  {
   "cell_type": "code",
   "execution_count": 6,
   "metadata": {},
   "outputs": [],
   "source": [
    "class GeneticUtils:\n",
    "    \n",
    "    @staticmethod\n",
    "    def find_best_chromossome(population):\n",
    "        '''\n",
    "        Retorna o melhor cromossomo\n",
    "        '''\n",
    "\n",
    "    @staticmethod\n",
    "    def find_worst_chromossome(population):\n",
    "        '''\n",
    "        Retorna o pior cromossomo\n",
    "        '''\n",
    "        \n",
    "        \n",
    "        "
   ]
  },
  {
   "cell_type": "markdown",
   "metadata": {},
   "source": [
    "### Operadores genéticos\n",
    "- Seleção: Selecionar pais\n",
    "- Crossover: Realizar o cruzamento entre os pais\n",
    "- Mutação: Aplicar, aleatoriamente, mutação aos genes\n",
    "- Elitismo: Remover piores indivíduos"
   ]
  },
  {
   "cell_type": "code",
   "execution_count": 7,
   "metadata": {},
   "outputs": [],
   "source": [
    "class GeneticOperators:\n",
    "\n",
    "    @staticmethod\n",
    "    def selection(population):\n",
    "        '''\n",
    "        Seleciona os pais\n",
    "        '''\n",
    "    \n",
    "    @staticmethod\n",
    "    def crossover(population, parent1, parent2):\n",
    "        '''\n",
    "        Aplica o cruzamento\n",
    "        '''\n",
    "        \n",
    "    @staticmethod\n",
    "    def mutation(population, MUTATION_PROBABILITY):\n",
    "        '''\n",
    "        Aplica a mutação\n",
    "        '''\n",
    "        \n",
    "    @staticmethod\n",
    "    def elitism(population):\n",
    "        '''\n",
    "        Remove o pior indivíduo\n",
    "        '''"
   ]
  },
  {
   "cell_type": "markdown",
   "metadata": {},
   "source": [
    "### Main\n",
    "- Gerar população inicial\n",
    "- Calcular pontuações\n",
    "- Aplicar operações genéticas"
   ]
  },
  {
   "cell_type": "code",
   "execution_count": null,
   "metadata": {},
   "outputs": [],
   "source": []
  },
  {
   "cell_type": "code",
   "execution_count": 15,
   "metadata": {},
   "outputs": [
    {
     "data": {
      "image/png": "[encoded data removed]",
      "text/plain": [
       "<Figure size 432x288 with 1 Axes>"
      ]
     },
     "metadata": {
      "needs_background": "light"
     },
     "output_type": "display_data"
    }
   ],
   "source": [
    "import matplotlib.pyplot as plt\n",
    "\n",
    "plt.xlabel('Generation')\n",
    "plt.ylabel('Average fitness')\n",
    "plt.title('Average fitness per generation')\n",
    "plt.plot(population_score)\n",
    "plt.show()"
   ]
  },
  {
   "cell_type": "code",
   "execution_count": null,
   "metadata": {},
   "outputs": [],
   "source": []
  }
 ],
 "metadata": {
  "kernelspec": {
   "display_name": "Python 3",
   "language": "python",
   "name": "python3"
  },
  "language_info": {
   "codemirror_mode": {
    "name": "ipython",
    "version": 3
   },
   "file_extension": ".py",
   "mimetype": "text/x-python",
   "name": "python",
   "nbconvert_exporter": "python",
   "pygments_lexer": "ipython3",
   "version": "3.7.9"
  }
 },
 "nbformat": 4,
 "nbformat_minor": 4
}
