{
 "cells": [
  {
   "cell_type": "markdown",
   "metadata": {},
   "source": [
    "## Projeto - Fuzzy\n",
    "\n",
    "#### Nome:         Turma:            Matrícula:\n",
    "#### Nome:         Turma:            Matrícula:"
   ]
  },
  {
   "cell_type": "code",
   "execution_count": null,
   "metadata": {},
   "outputs": [],
   "source": [
    "!pip install scikit-fuzzy"
   ]
  },
  {
   "cell_type": "code",
   "execution_count": null,
   "metadata": {},
   "outputs": [],
   "source": [
    "import numpy as np\n",
    "import skfuzzy as fuzzy\n",
    "import skfuzzy.control as control"
   ]
  },
  {
   "cell_type": "markdown",
   "metadata": {},
   "source": [
    "#### Criando antescedente (entrada/input)"
   ]
  },
  {
   "cell_type": "code",
   "execution_count": null,
   "metadata": {},
   "outputs": [],
   "source": [
    "# Definindo universo de discurso e nome da variável\n",
    "universo_massa = np.arange(0, 2.41, 0.01)\n",
    "\n",
    "massa = control.Antecedent(universe = universo_massa, label = \"massa\")\n",
    "\n",
    "# Criando função de pertinência triangular -> trimf, trapezoidal -> trapmf\n",
    "massa[\"mp\"] = fuzzy.trimf(massa.universe, [0, 0, 0.55])\n",
    "\n",
    "massa.view()"
   ]
  },
  {
   "cell_type": "code",
   "execution_count": null,
   "metadata": {},
   "outputs": [],
   "source": [
    "# Definindo universo de discurso e nome da variável\n",
    "universo_velocidade = np.arange(0, 181)\n"
   ]
  },
  {
   "cell_type": "markdown",
   "metadata": {},
   "source": [
    "#### Criando consequent (saída/output)"
   ]
  },
  {
   "cell_type": "code",
   "execution_count": null,
   "metadata": {},
   "outputs": [],
   "source": [
    "# Universo da gorjeta\n",
    "universo_pressao = np.arange(0, 1.001, 0.001)\n"
   ]
  },
  {
   "cell_type": "markdown",
   "metadata": {},
   "source": [
    "#### Criando regras"
   ]
  },
  {
   "cell_type": "code",
   "execution_count": null,
   "metadata": {},
   "outputs": [],
   "source": [
    "# REGRA -> expressão X, resultado Y\n",
    "\n",
    "regra1 = control.Rule((velocidade[\"mb\"] & massa[\"mp\"]) |\n",
    "                      (velocidade[\"mb\"] & massa[\"pe\"]) |\n",
    "                      (velocidade[\"mb\"] & massa[\"me\"]), pressao[\"mi\"])"
   ]
  },
  {
   "cell_type": "markdown",
   "metadata": {},
   "source": [
    "#### Criando sistema"
   ]
  },
  {
   "cell_type": "code",
   "execution_count": null,
   "metadata": {},
   "outputs": [],
   "source": [
    "# Adicionando regras ao controle\n",
    "\n",
    "# Criando sistema com o controle de gorjeta"
   ]
  },
  {
   "cell_type": "code",
   "execution_count": null,
   "metadata": {},
   "outputs": [],
   "source": [
    "sistema.input[\"velocidade\"] = 155\n",
    "sistema.input[\"massa\"] = 1.5\n",
    "\n",
    "# Executando o sistema\n"
   ]
  },
  {
   "cell_type": "code",
   "execution_count": null,
   "metadata": {},
   "outputs": [],
   "source": []
  }
 ],
 "metadata": {
  "interpreter": {
   "hash": "8938787fc786eef172ef16cfc82576161dcc5f27948e2dc8ed7d154938db102b"
  },
  "kernelspec": {
   "display_name": "Python 3",
   "language": "python",
   "name": "python3"
  },
  "language_info": {
   "codemirror_mode": {
    "name": "ipython",
    "version": 3
   },
   "file_extension": ".py",
   "mimetype": "text/x-python",
   "name": "python",
   "nbconvert_exporter": "python",
   "pygments_lexer": "ipython3",
   "version": "3.7.9"
  }
 },
 "nbformat": 4,
 "nbformat_minor": 2
}
