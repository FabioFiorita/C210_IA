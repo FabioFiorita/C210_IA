{
 "cells": [
  {
   "cell_type": "markdown",
   "metadata": {},
   "source": [
    "# Machine Learning\n",
    "\n",
    "\"Machine Learning é a ciência (ou arte) de programar máquinas para aprenderem com dados\" - Aurélien Géron em \"Hands-on Machine Learning with Scikit-Learn, Keras & Tensorflow\"\n",
    "\n",
    "### > Modelo\n",
    "Algoritmo que utiliza informações de entrada (e saída para alguns casos) para aprender\n",
    "##### m(X) = y\n",
    "\n",
    "### > Dados\n",
    "Dados utilizados pelos modelos para o aprendizado\n",
    "\n",
    "###### - Dados de treino:\n",
    "Dados fornecidos ao algoritmo para que possa aprender (entre 70% a 80% da base de dados)\n",
    "\n",
    "###### - Dados de teste:\n",
    "Dados para verificar se o modelo está tendo boa performance\n",
    "\n",
    "###### - Variáveis preditoras:\n",
    "Variáveis de entrada que serão utilizadas para prever a variável alvo (X)\n",
    "\n",
    "###### - Variável alvo:\n",
    "Variável predita através das variáveis preditoras (Y)\n",
    "\n",
    "### > Aprendizado supervisionado\n",
    "Tarefas de treinamento onde o modelo conhece qual a solução ideal para cada conjunto de dados\n",
    "###### --- Tarefas de regressão:\n",
    "Tarefas onde é esperado um valor numérico (normalmente contínuo) de um modelo. Ex: preço de um imóvel, cotação de uma moeda\n",
    "###### --- Tarefas de classificação:\n",
    "Tarefas onde o modelo de aprendizado de máquina tem como output uma classe. Ex: prever se uma pessoa possui ou não determinada doença\n",
    "\n",
    "### > Aprendizado não supervisionado\n",
    "Tarefas de treinamento onde o modelo não conhece a saída ideal para os dados fornecidos e tenta encontrar padrões entre os mesmos\n",
    "###### --- Tarefas de agrupamento (clustering):\n",
    "Agrupar objetos (dados) que possuam alguma semelhança em clusters\n",
    "\n",
    "### > Métodos de aprendizado\n",
    "###### --- fit()\n",
    "Treinar o modelo com dados de TREINO\n",
    "\n",
    "###### --- predict()\n",
    "Predizer valores de TESTE com o modelo\n",
    "\n",
    "### > Passo a passo\n",
    "#### >> Leitura da base de dados\n",
    "#### >> Análise exploratória\n",
    "#### >> Definição e treino do modelo\n",
    "#### >> Avaliação da performance do modelo"
   ]
  }
 ],
 "metadata": {
  "kernelspec": {
   "display_name": "Python 3",
   "language": "python",
   "name": "python3"
  },
  "language_info": {
   "codemirror_mode": {
    "name": "ipython",
    "version": 3
   },
   "file_extension": ".py",
   "mimetype": "text/x-python",
   "name": "python",
   "nbconvert_exporter": "python",
   "pygments_lexer": "ipython3",
   "version": "3.7.9"
  }
 },
 "nbformat": 4,
 "nbformat_minor": 4
}
